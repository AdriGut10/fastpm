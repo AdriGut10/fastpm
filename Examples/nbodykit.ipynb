{
 "cells": [
  {
   "cell_type": "markdown",
   "metadata": {
    "collapsed": true
   },
   "source": [
    "## Reading from a C version FastPM snapshot file."
   ]
  },
  {
   "cell_type": "code",
   "execution_count": 2,
   "metadata": {
    "collapsed": false
   },
   "outputs": [
    {
     "name": "stdout",
     "output_type": "stream",
     "text": [
      "Populating the interactive namespace from numpy and matplotlib\n"
     ]
    }
   ],
   "source": [
    "%pylab inline"
   ]
  },
  {
   "cell_type": "code",
   "execution_count": 3,
   "metadata": {
    "collapsed": true
   },
   "outputs": [],
   "source": [
    "from nbodykit.source.particle import File\n",
    "from nbodykit.source.mesh import BigFileMesh\n",
    "from nbodykit.io.bigfile import BigFile"
   ]
  },
  {
   "cell_type": "code",
   "execution_count": 4,
   "metadata": {
    "collapsed": true
   },
   "outputs": [],
   "source": [
    "from nbodykit.cosmology import Planck15\n",
    "from nbodykit.cosmology import EHPower"
   ]
  },
  {
   "cell_type": "code",
   "execution_count": 5,
   "metadata": {
    "collapsed": false
   },
   "outputs": [],
   "source": [
    "k = numpy.logspace(-4, 2, 1000)\n",
    "p = EHPower(Planck15, redshift=0.0)(k)\n",
    "numpy.savetxt('powerspec.txt', numpy.array((k, p)).T)"
   ]
  },
  {
   "cell_type": "code",
   "execution_count": null,
   "metadata": {
    "collapsed": false
   },
   "outputs": [
    {
     "name": "stdout",
     "output_type": "stream",
     "text": [
      "Overwriting nbodykit.lua\n"
     ]
    }
   ],
   "source": [
    "%%file nbodykit.lua\n",
    "\n",
    "nc = 128\n",
    "boxsize = 384.0\n",
    "\n",
    "time_step = linspace(0.1, 1, 10)\n",
    "\n",
    "output_redshifts= {0.0}  -- redshifts of output\n",
    "\n",
    "omega_m = 0.307494\n",
    "h       = 0.6774\n",
    "\n",
    "read_powerspectrum= \"powerspec.txt\"\n",
    "random_seed= 100\n",
    "\n",
    "pm_nc_factor = 2\n",
    "\n",
    "np_alloc_factor= 4.0      -- Amount of memory allocated for particle\n",
    "\n",
    "write_snapshot= \"fastpm\" \n",
    "write_nonlineark= \"fastpm\" \n",
    "\n",
    "-- 1d power spectrum (raw), without shotnoise correction\n",
    "write_powerspectrum = \"powerspec-debug\"\n"
   ]
  },
  {
   "cell_type": "code",
   "execution_count": null,
   "metadata": {
    "collapsed": false
   },
   "outputs": [],
   "source": [
    "%%bash\n",
    "export OMP_NUM_THREADS=1\n",
    "mpirun -n 4 ../src/fastpm nbodykit.lua"
   ]
  },
  {
   "cell_type": "code",
   "execution_count": null,
   "metadata": {
    "collapsed": false
   },
   "outputs": [],
   "source": [
    "!ls -l fastpm_1.0000"
   ]
  },
  {
   "cell_type": "code",
   "execution_count": null,
   "metadata": {
    "collapsed": false
   },
   "outputs": [],
   "source": [
    "part = File(BigFile, 'fastpm_1.0000', args=dict(dataset='1/', header='Header'))"
   ]
  },
  {
   "cell_type": "code",
   "execution_count": null,
   "metadata": {
    "collapsed": false
   },
   "outputs": [],
   "source": [
    "mesh = BigFileMesh('fastpm_1.0000/', 'DensityK')"
   ]
  },
  {
   "cell_type": "code",
   "execution_count": null,
   "metadata": {
    "collapsed": true
   },
   "outputs": [],
   "source": [
    "field = mesh.to_field(mode='complex')"
   ]
  },
  {
   "cell_type": "code",
   "execution_count": null,
   "metadata": {
    "collapsed": false
   },
   "outputs": [],
   "source": [
    "image = mesh.preview(axes=(0, 1))"
   ]
  },
  {
   "cell_type": "code",
   "execution_count": null,
   "metadata": {
    "collapsed": false
   },
   "outputs": [],
   "source": [
    "imshow(image)"
   ]
  },
  {
   "cell_type": "code",
   "execution_count": null,
   "metadata": {
    "collapsed": false
   },
   "outputs": [],
   "source": [
    "image = part.to_mesh(Nmesh=128).preview(axes=(0, 1))"
   ]
  },
  {
   "cell_type": "code",
   "execution_count": null,
   "metadata": {
    "collapsed": false
   },
   "outputs": [],
   "source": [
    "imshow(image)"
   ]
  },
  {
   "cell_type": "code",
   "execution_count": null,
   "metadata": {
    "collapsed": true
   },
   "outputs": [],
   "source": []
  }
 ],
 "metadata": {
  "kernelspec": {
   "display_name": "Python [default]",
   "language": "python",
   "name": "python3"
  },
  "language_info": {
   "codemirror_mode": {
    "name": "ipython",
    "version": 3
   },
   "file_extension": ".py",
   "mimetype": "text/x-python",
   "name": "python",
   "nbconvert_exporter": "python",
   "pygments_lexer": "ipython3",
   "version": "3.5.2"
  }
 },
 "nbformat": 4,
 "nbformat_minor": 2
}
